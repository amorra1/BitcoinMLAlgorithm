{
 "cells": [
  {
   "cell_type": "code",
   "execution_count": null,
   "id": "cdb8255f-a570-4a8c-a37f-dad7ae100a8f",
   "metadata": {},
   "outputs": [],
   "source": [
    "import keras\n",
    "from keras.saving import serialize_keras_object\n",
    "from tensorflow.keras import utils\n",
    "from tensorflow.keras.models import Sequential\n",
    "from tensorflow.keras.layers import Dense, Flatten\n",
    "import json"
   ]
  },
  {
   "cell_type": "code",
   "execution_count": null,
   "id": "854b801f-8495-422b-87d0-6beb23dfa6b9",
   "metadata": {},
   "outputs": [],
   "source": [
    "#setting the start and end date to look at\n",
    "start = datetime(2020, 1, 1)\n",
    "end = datetime(2022, 1, 1)"
   ]
  },
  {
   "cell_type": "code",
   "execution_count": null,
   "id": "2865a70c-c00a-4c7b-b8b9-3e2f53798fe3",
   "metadata": {},
   "outputs": [],
   "source": [
    "#initializing quant book, allows us to access their API data\n",
    "qb = QuantBook()\n",
    "symbol = qb.AddCrypto(\"BTCUSD\", Resolution.Daily).Symbol\n",
    "history = qb.History(symbol, start, end).loc[symbol]\n",
    "history.head() #previews first 5 rows"
   ]
  },
  {
   "cell_type": "code",
   "execution_count": null,
   "id": "6c2fe6b7-5a4f-4388-a25c-3bf2d075959b",
   "metadata": {},
   "outputs": [],
   "source": [
    "#isolating the data we want and excluding the rest\n",
    "daily_pct_change = history[[\"open\", \"high\", \"low\", \"close\", \"volume\"]].pct_change().dropna()\n",
    "df = daily_pct_change\n",
    "df.head()"
   ]
  },
  {
   "cell_type": "code",
   "execution_count": null,
   "id": "cbb1d3e3-7d88-4c33-9163-c4fe110f73f0",
   "metadata": {},
   "outputs": [],
   "source": [
    "# removes all values of infinity and replaces with the highest finite value\n",
    "# essentially cleans the data\n",
    "indexes = df[((df.volume == float(\"inf\")))].index\n",
    "for i in indexes:\n",
    "    df.at[i, \"volume\"] = max(df.volume.drop(indexes))"
   ]
  },
  {
   "cell_type": "code",
   "execution_count": null,
   "id": "351822d3-c6e1-4382-9c48-09b90612c43b",
   "metadata": {},
   "outputs": [],
   "source": [
    "#using the past 30 days to inform current days decision\n",
    "n_steps = 30 # Step size (data per step)\n",
    "features = [] # inputs\n",
    "labels = [] # outputs\n",
    "for i in range(len(df)-n_steps):\n",
    "    input_data = df.iloc[i:i+n_steps].values\n",
    "    features.append(input_data)\n",
    "    if df['close'].iloc[i+n_steps] >= 0:\n",
    "        # UP\n",
    "        label = 1\n",
    "    else:\n",
    "        # DOWN\n",
    "        label = 0\n",
    "    labels.append(label)"
   ]
  },
  {
   "cell_type": "code",
   "execution_count": null,
   "id": "1839a562-42da-43a5-a18a-7860901f8f28",
   "metadata": {},
   "outputs": [],
   "source": [
    "features = np.array(features) #convert to desired input type\n",
    "labels = np.array(labels)"
   ]
  },
  {
   "cell_type": "code",
   "execution_count": null,
   "id": "493410d3-a88a-4e7b-8267-099df4fe2f98",
   "metadata": {},
   "outputs": [],
   "source": [
    "train_length = int(len(features) * 0.7) # split the data for training and testing\n",
    "X_train = features[:train_length]\n",
    "X_test = features[train_length:]\n",
    "y_train = labels[:train_length]\n",
    "y_test = labels[train_length:]"
   ]
  },
  {
   "cell_type": "code",
   "execution_count": null,
   "id": "8e142f8d-42c5-4770-b86e-cf00a32a4cc0",
   "metadata": {},
   "outputs": [],
   "source": [
    "# checks the number of up vs down days in training data, should be relatively balanced\n",
    "sum(y_train)/len(y_train)"
   ]
  },
  {
   "cell_type": "code",
   "execution_count": null,
   "id": "48b3a19f-1e6a-42cf-a537-4a1db15246f9",
   "metadata": {},
   "outputs": [],
   "source": [
    "# use second part of data for testing instead\n",
    "test_length = int(len(features) * 0.3)\n",
    "X_train = features[test_length:]\n",
    "X_test = features[:test_length]\n",
    "y_train = labels[test_length:]\n",
    "y_test = labels[:test_length]"
   ]
  },
  {
   "cell_type": "code",
   "execution_count": 1,
   "id": "7b39300f-7480-4a9c-90ce-750fb5ef3a01",
   "metadata": {},
   "outputs": [
    {
     "ename": "NameError",
     "evalue": "name 'y_train' is not defined",
     "output_type": "error",
     "traceback": [
      "\u001b[1;31m---------------------------------------------------------------------------\u001b[0m",
      "\u001b[1;31mNameError\u001b[0m                                 Traceback (most recent call last)",
      "Input \u001b[1;32mIn [1]\u001b[0m, in \u001b[0;36m<cell line: 1>\u001b[1;34m()\u001b[0m\n\u001b[1;32m----> 1\u001b[0m \u001b[38;5;28msum\u001b[39m(\u001b[43my_train\u001b[49m) \u001b[38;5;241m/\u001b[39m \u001b[38;5;28mlen\u001b[39m(y_train)\n",
      "\u001b[1;31mNameError\u001b[0m: name 'y_train' is not defined"
     ]
    }
   ],
   "source": [
    "sum(y_train) / len(y_train)"
   ]
  },
  {
   "cell_type": "code",
   "execution_count": null,
   "id": "82f9c7e4-3e5f-401a-befd-3dc81a3c5ac4",
   "metadata": {},
   "outputs": [],
   "source": [
    "#                   features, shape, relu gets rid of negative\n",
    "model = Sequential([Dense(30, input_shape=X_train[0].shape, activation='relu'),\n",
    "                    Dense(20, activation='relu'),\n",
    "                    Flatten(),\n",
    "                    Dense(1, activation='sigmoid')])"
   ]
  },
  {
   "cell_type": "code",
   "execution_count": null,
   "id": "e80399a7-c0a3-4154-91db-fda8da4b1b76",
   "metadata": {},
   "outputs": [],
   "source": [
    "model.compile(loss='binary_crossentropy',\n",
    "                optimizer='adam',\n",
    "                metrics=['accuracy', 'mse'])"
   ]
  },
  {
   "cell_type": "code",
   "execution_count": null,
   "id": "8ed6597a-32ef-487f-9c68-642b13baa962",
   "metadata": {},
   "outputs": [],
   "source": [
    "model.fit(X_train, y_train, epochs=10) #epochs is how many times it loops through the data"
   ]
  },
  {
   "cell_type": "code",
   "execution_count": null,
   "id": "0c7dc7d3-d6e1-4a51-bec8-9a269793e6c5",
   "metadata": {},
   "outputs": [],
   "source": [
    "y_hat = model.predict(X_test) #now test the model"
   ]
  },
  {
   "cell_type": "code",
   "execution_count": null,
   "id": "6a5c8789-bcc6-4c1c-87ae-b008ff922101",
   "metadata": {},
   "outputs": [],
   "source": [
    "results = pd.DataFrame({'y': y_test.flatten(), 'y_hat': y_hat.flatten()})"
   ]
  },
  {
   "cell_type": "code",
   "execution_count": null,
   "id": "ec6a9260-ff03-434e-b7b3-243d978a7f00",
   "metadata": {},
   "outputs": [],
   "source": [
    "results.plot(title='Model Performance: predicted vs actual %change in closing price', figsize=(17, 7))"
   ]
  },
  {
   "cell_type": "code",
   "execution_count": null,
   "id": "7f5b26e3-3ef2-4d77-94bb-49476aa454f1",
   "metadata": {},
   "outputs": [],
   "source": [
    "pred_train = model.predict(X_train)\n",
    "scores = model.evaluate(X_train, y_train, verbose=0)\n",
    "print('Accuracy on training data: {}% \\n Error on training data: {}'.format(scores[1], 1 - scores[1]))\n",
    "\n",
    "pred_test= model.predict(X_test)\n",
    "scores2 = model.evaluate(X_test, y_test, verbose=0)\n",
    "print('Accuracy on test data: {}% \\n Error on test data: {}'.format(scores2[1], 1 - scores2[1]))"
   ]
  },
  {
   "cell_type": "code",
   "execution_count": null,
   "id": "a05abaa2-73e0-4222-823f-d8729f89afd9",
   "metadata": {},
   "outputs": [],
   "source": [
    "model_str = json.dumps(serialize_keras_object(model)) #turn model to a json object"
   ]
  },
  {
   "cell_type": "code",
   "execution_count": null,
   "id": "1f01bc17-6dd8-4377-b242-af814b8bbffc",
   "metadata": {},
   "outputs": [],
   "source": [
    "model_key = 'bitcoin_price_predictor' #give model a name"
   ]
  },
  {
   "cell_type": "code",
   "execution_count": null,
   "id": "63c9e939-fb40-401d-b431-09ffa3f5d9d2",
   "metadata": {},
   "outputs": [],
   "source": [
    "qb.ObjectStore.Save(model_key, model_str) #save the model"
   ]
  },
  {
   "cell_type": "code",
   "execution_count": null,
   "id": "96d36789-9669-479b-9a2a-87618e27c87c",
   "metadata": {},
   "outputs": [],
   "source": [
    "if qb.ObjectStore.ContainsKey(model_key):\n",
    "    model_str = qb.ObjectStore.Read(model_key)\n",
    "    config = json.loads(model_str)['config']\n",
    "    model = Sequential.from_config(config)"
   ]
  },
  {
   "cell_type": "code",
   "execution_count": null,
   "id": "41820e13-8335-4bcf-917b-3b0844cb7526",
   "metadata": {},
   "outputs": [],
   "source": [
    "testDate = datetime.now()"
   ]
  },
  {
   "cell_type": "code",
   "execution_count": null,
   "id": "55197875-2b29-4841-a644-c179ae6982a0",
   "metadata": {},
   "outputs": [],
   "source": [
    "df = qb.History(symbol, testDate - timedelta(40), testDate).loc[symbol]\n",
    "df_change = df[[\"open\", \"high\", \"low\", \"close\", \"volume\"]].pct_change().dropna()\n",
    "model_input = []\n",
    "for index, row in df_change.tail(30).iterrows():\n",
    "    model_input.append(np.array(row))\n",
    "model_input = np.array([model_input])\n",
    "#print(model_input)"
   ]
  },
  {
   "cell_type": "code",
   "execution_count": null,
   "id": "2f651ce4-f829-4aa0-b843-45a6759e82ec",
   "metadata": {},
   "outputs": [],
   "source": [
    "print((model.predict(model_input)[0][0] - 0.5) * 2)\n",
    "if round(model.predict(model_input)[0][0]) == 0:\n",
    "    print(\"down\")\n",
    "else:\n",
    "    print(\"up\")"
   ]
  }
 ],
 "metadata": {
  "kernelspec": {
   "display_name": "Python 3 (ipykernel)",
   "language": "python",
   "name": "python3"
  },
  "language_info": {
   "codemirror_mode": {
    "name": "ipython",
    "version": 3
   },
   "file_extension": ".py",
   "mimetype": "text/x-python",
   "name": "python",
   "nbconvert_exporter": "python",
   "pygments_lexer": "ipython3",
   "version": "3.9.12"
  }
 },
 "nbformat": 4,
 "nbformat_minor": 5
}
